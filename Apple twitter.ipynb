{
 "cells": [
  {
   "cell_type": "code",
   "execution_count": 1,
   "metadata": {
    "collapsed": true
   },
   "outputs": [],
   "source": [
    "%matplotlib inline"
   ]
  },
  {
   "cell_type": "code",
   "execution_count": 1,
   "metadata": {
    "collapsed": false
   },
   "outputs": [
    {
     "name": "stderr",
     "output_type": "stream",
     "text": [
      "//anaconda/lib/python2.7/site-packages/IPython/core/interactiveshell.py:2885: FutureWarning: \n",
      "mpl_style had been deprecated and will be removed in a future version.\n",
      "Use `matplotlib.pyplot.style.use` instead.\n",
      "\n",
      "  exec(code_obj, self.user_global_ns, self.user_ns)\n"
     ]
    }
   ],
   "source": [
    "import tweepy\n",
    "from pylab import *\n",
    "from random import *\n",
    "from scipy import *\n",
    "from scipy import optimize\n",
    "from matplotlib import *\n",
    "import csv, sys\n",
    "import re,pyfits,math\n",
    "import numpy as np\n",
    "ion()\n",
    "from scipy import stats\n",
    "from scipy.optimize import curve_fit\n",
    "import scipy.interpolate\n",
    "rcdefaults()\n",
    "matplotlib.rc('font',family='Bitstream Vera Serif')\n",
    "import pandas as pd\n",
    "from pandas import datetime\n",
    "pd.set_option('display.mpl_style', 'default')"
   ]
  },
  {
   "cell_type": "code",
   "execution_count": 10,
   "metadata": {
    "collapsed": false
   },
   "outputs": [],
   "source": [
    "### http://blog.impiyush.com/2015/03/data-analysis-using-twitter-api-and.html"
   ]
  },
  {
   "cell_type": "code",
   "execution_count": 2,
   "metadata": {
    "collapsed": true
   },
   "outputs": [],
   "source": [
    "consumerKey = 'oSPPzwzoRqzUupODBPVFp6Lw0'\n",
    "consumerSecret = 'nHlt9odY331s5yoqHPyNeqbBKeYAYwY1mDY16BTtxjLDipFuDW'\n",
    "\n",
    "#Use tweepy.OAuthHandler to create an authentication using the given key and secret\n",
    "auth = tweepy.OAuthHandler(consumer_key=consumerKey, \n",
    "                        consumer_secret=consumerSecret)\n",
    "\n",
    "#Connect to the Twitter API using the authentication\n",
    "api = tweepy.API(auth)"
   ]
  },
  {
   "cell_type": "code",
   "execution_count": 118,
   "metadata": {
    "collapsed": false
   },
   "outputs": [
    {
     "name": "stdout",
     "output_type": "stream",
     "text": [
      "756\n"
     ]
    }
   ],
   "source": [
    "n=2000#0\n",
    "results = []\n",
    "\n",
    "#Get the first 5000 items based on the search query\n",
    "for tweet in tweepy.Cursor(api.search, q='%23apples', lang='en').items(n):#, \n",
    "                           #geocode='40.714353,-74.00597299999998,5km').items(n):\n",
    "    results.append(tweet)\n",
    "\n",
    "# Verify the number of items returned\n",
    "print len(results)"
   ]
  },
  {
   "cell_type": "code",
   "execution_count": 119,
   "metadata": {
    "collapsed": false
   },
   "outputs": [],
   "source": [
    "#tw1 = result[0]\n",
    "# Analyze the data in one tweet to see what we require\n",
    "#The key names beginning with an '_' are hidden ones and usually  not required, so we'll skip them\n",
    "#for param in dir(tw1):    \n",
    "#    if not param.startswith(\"_\"):\n",
    "#        print \"%s : %s\\n\" % (param, eval('tw1.'+param))"
   ]
  },
  {
   "cell_type": "code",
   "execution_count": 120,
   "metadata": {
    "collapsed": true
   },
   "outputs": [],
   "source": [
    "# Create a function to convert a given list of tweets into   a Pandas DataFrame.\n",
    "# The DataFrame will consist of only the values, which I   think might be useful for analysis...\n",
    "def toDataFrame(tweets):\n",
    "    DataSet = pd.DataFrame()\n",
    "    #DataSet['tweetText'] = [tweet.text for tweet in tweets]\n",
    "    DataSet['tweetYear'] = [int(tweet.created_at.strftime(\"%Y\")) for tweet in tweets]\n",
    "    DataSet['tweetMonth'] = [int(tweet.created_at.strftime(\"%m\")) for tweet in tweets]\n",
    "    #DataSet['tweetDay'] = [tweet.created_at.strftime(\"%d\") for tweet in tweets]\n",
    "    #DataSet['userLocation'] = [tweet.user.location for tweet in tweets]\n",
    "    #DataSet['userTimezone'] = [tweet.user.time_zone for tweet in tweets]\n",
    "    return DataSet"
   ]
  },
  {
   "cell_type": "code",
   "execution_count": 121,
   "metadata": {
    "collapsed": false
   },
   "outputs": [
    {
     "name": "stdout",
     "output_type": "stream",
     "text": [
      "756\n",
      "751    1\n",
      "752    1\n",
      "753    1\n",
      "754    1\n",
      "755    1\n",
      "Name: tweetMonth, dtype: int64\n"
     ]
    }
   ],
   "source": [
    "# Get all results\n",
    "DataSet = toDataFrame(results)\n",
    "\n",
    "# 'None' is treated as null here, so I'll remove all the records having   'None' in their 'userTimezone' column\n",
    "DataSet = DataSet[DataSet.tweetYear.notnull()]\n",
    "\n",
    "# Let's also check how many records are we left with now\n",
    "print len(DataSet)\n",
    "\n",
    "# Count the number of tweets in each time zone and get the first 10\n",
    "print DataSet['tweetMonth'][-5:]#.value_counts()[:10]"
   ]
  },
  {
   "cell_type": "code",
   "execution_count": 122,
   "metadata": {
    "collapsed": false
   },
   "outputs": [
    {
     "name": "stdout",
     "output_type": "stream",
     "text": [
      "[2017, 2017] [1, 2] [337, 419]\n"
     ]
    }
   ],
   "source": [
    "year = []; month = []; count = []\n",
    "for yr in unique(DataSet.tweetYear):\n",
    "    for mth in arange(1,12):\n",
    "        cnt = np.where((DataSet.tweetMonth==mth)&(DataSet.tweetYear==yr))\n",
    "        if len(cnt[0])!=0:\n",
    "            year.append(yr); month.append(mth); count.append(len(cnt[0]))\n",
    "print year, month, count"
   ]
  },
  {
   "cell_type": "code",
   "execution_count": null,
   "metadata": {
    "collapsed": true
   },
   "outputs": [],
   "source": []
  },
  {
   "cell_type": "code",
   "execution_count": null,
   "metadata": {
    "collapsed": true
   },
   "outputs": [],
   "source": []
  },
  {
   "cell_type": "code",
   "execution_count": null,
   "metadata": {
    "collapsed": true
   },
   "outputs": [],
   "source": []
  },
  {
   "cell_type": "code",
   "execution_count": null,
   "metadata": {
    "collapsed": true
   },
   "outputs": [],
   "source": []
  },
  {
   "cell_type": "code",
   "execution_count": null,
   "metadata": {
    "collapsed": true
   },
   "outputs": [],
   "source": []
  }
 ],
 "metadata": {
  "kernelspec": {
   "display_name": "Python 2",
   "language": "python",
   "name": "python2"
  },
  "language_info": {
   "codemirror_mode": {
    "name": "ipython",
    "version": 2
   },
   "file_extension": ".py",
   "mimetype": "text/x-python",
   "name": "python",
   "nbconvert_exporter": "python",
   "pygments_lexer": "ipython2",
   "version": "2.7.12"
  }
 },
 "nbformat": 4,
 "nbformat_minor": 0
}
